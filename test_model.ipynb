{
 "cells": [
  {
   "cell_type": "code",
   "execution_count": 1,
   "metadata": {},
   "outputs": [],
   "source": [
    "import sys\n",
    "from pathlib import Path\n",
    "\n",
    "sys.path.append((Path.cwd() / \"ner_agent_detector\").resolve().as_posix())\n",
    "sys.path.append((Path.cwd() / \"indra_stmt_classifier\").resolve().as_posix())\n",
    "sys.path.append((Path.cwd() / \"utils\").resolve().as_posix())\n"
   ]
  },
  {
   "cell_type": "code",
   "execution_count": 2,
   "metadata": {},
   "outputs": [
    {
     "name": "stderr",
     "output_type": "stream",
     "text": [
      "/Users/thomaslim/miniconda3/envs/indra_gpt/lib/python3.11/site-packages/tqdm/auto.py:21: TqdmWarning: IProgress not found. Please update jupyter and ipywidgets. See https://ipywidgets.readthedocs.io/en/stable/user_install.html\n",
      "  from .autonotebook import tqdm as notebook_tqdm\n"
     ]
    }
   ],
   "source": [
    "from ner_agent_detector.model import AgentNERModel\n",
    "from indra_stmt_classifier.model import IndraStmtClassifier\n",
    "from utils.annotate import annotate_entities\n",
    "\n",
    "agent_detection_model = AgentNERModel(\"/Users/thomaslim/gyorilab/indra_bert/output/ner_agent_detection/checkpoint-2450\")\n",
    "indra_stmt_classifier_model = IndraStmtClassifier(\"/Users/thomaslim/gyorilab/indra_bert/output/indra_stmt_classifier/checkpoint-790\")\n"
   ]
  },
  {
   "cell_type": "code",
   "execution_count": null,
   "metadata": {},
   "outputs": [],
   "source": [
    "example_text = \"C5a promotes the proliferation of human nasopharyngeal carcinoma cells through PCAF-mediated STAT3 acetylation.\"\n"
   ]
  },
  {
   "cell_type": "code",
   "execution_count": 4,
   "metadata": {},
   "outputs": [
    {
     "name": "stdout",
     "output_type": "stream",
     "text": [
      "---PREDICTION---\n",
      "Entity pair prediction:\n",
      "  ({'start': 0, 'end': 3, 'text': 'MEK'}, {'start': 19, 'end': 22, 'text': 'ERK'})\n",
      "Annotated text:\n",
      "  <e>MEK</e> phosphorylates <e>ERK</e>\n",
      "INDRA statement prediction:\n",
      "  Phosphorylation\n",
      "INDRA statement prediction confidence:\n",
      "  0.9950677156448364\n",
      "\n"
     ]
    }
   ],
   "source": [
    "agent_prediction = agent_detection_model.predict(example_text)\n",
    "entity_spans = agent_prediction[\"entity_spans\"]\n",
    "# Get all pairs of entities\n",
    "pairs = []\n",
    "for i in range(len(entity_spans)):\n",
    "    for j in range(i + 1, len(entity_spans)):\n",
    "        pairs.append((entity_spans[i], entity_spans[j]))\n",
    "\n",
    "for entity_pair in pairs:\n",
    "    pair_wise_annotation = annotate_entities(example_text, entity_pair)\n",
    "    stmt_prediction = indra_stmt_classifier_model.predict(pair_wise_annotation)\n",
    "    print(\"---PREDICTION---\")\n",
    "    print(\"Entity pair prediction:\")\n",
    "    print(f\"  {entity_pair}\")\n",
    "\n",
    "    print(\"Annotated text:\")\n",
    "    print(f\"  {pair_wise_annotation}\")\n",
    "\n",
    "    print(\"INDRA statement prediction:\")\n",
    "    print(f\"  {stmt_prediction['predicted_label']}\")\n",
    "\n",
    "    print(\"INDRA statement prediction confidence:\")\n",
    "    print(f\"  {stmt_prediction['confidence']}\")\n",
    "\n",
    "    print(\"\")\n"
   ]
  },
  {
   "cell_type": "code",
   "execution_count": null,
   "metadata": {},
   "outputs": [],
   "source": [
    "tokenizer = indra_stmt_classifier_model.tokenizer\n",
    "\n",
    "encoding = tokenizer(\n",
    "    text=\"Phosphorylation\",\n",
    "    text_pair=example_text,\n",
    "    return_offsets_mapping=True,\n",
    "    truncation=True,\n",
    "    max_length=512,\n",
    "    padding=False,\n",
    "    add_special_tokens=True\n",
    ")\n"
   ]
  },
  {
   "cell_type": "code",
   "execution_count": null,
   "metadata": {},
   "outputs": [
    {
     "name": "stdout",
     "output_type": "stream",
     "text": [
      "Token: [CLS], Offset: (0, 0)\n",
      "Token: phosphorylation, Offset: (0, 15)\n",
      "Token: [SEP], Offset: (0, 0)\n",
      "Token: mek, Offset: (0, 3)\n",
      "Token: phosphoryl, Offset: (4, 14)\n",
      "Token: ##ates, Offset: (14, 18)\n",
      "Token: erk, Offset: (19, 22)\n",
      "Token: [SEP], Offset: (0, 0)\n"
     ]
    }
   ],
   "source": [
    "for token, offset in zip(encoding[\"input_ids\"], encoding[\"offset_mapping\"]):\n",
    "    print(f\"Token: {tokenizer.decode(token)}, Offset: {offset}\")\n"
   ]
  },
  {
   "cell_type": "code",
   "execution_count": null,
   "metadata": {},
   "outputs": [
    {
     "data": {
      "text/plain": [
       "('A MEK phosphorylates ERK',\n",
       " [(2, 5, 'subj'), (21, 24, 'obj')],\n",
       " 'A <e>MEK</e> phosphorylates <e>ERK</e>')"
      ]
     },
     "execution_count": 73,
     "metadata": {},
     "output_type": "execute_result"
    }
   ],
   "source": [
    "parse_and_generalize_tags(\"A <subj>MEK</subj> phosphorylates <obj>ERK</obj>\")\n"
   ]
  },
  {
   "cell_type": "code",
   "execution_count": null,
   "metadata": {},
   "outputs": [],
   "source": [
    "role_spans = parse_and_generalize_tags(\"A <subj>MEK</subj> phosphorylates <obj>ERK</obj>\")[1]\n"
   ]
  },
  {
   "cell_type": "code",
   "execution_count": null,
   "metadata": {},
   "outputs": [
    {
     "data": {
      "text/plain": [
       "dict_keys(['input_ids', 'token_type_ids', 'attention_mask', 'offset_mapping'])"
      ]
     },
     "execution_count": 81,
     "metadata": {},
     "output_type": "execute_result"
    }
   ],
   "source": [
    "encoding[.keys()]\n"
   ]
  },
  {
   "cell_type": "code",
   "execution_count": null,
   "metadata": {},
   "outputs": [
    {
     "name": "stdout",
     "output_type": "stream",
     "text": [
      "Token: [CLS], Label: O\n",
      "Token: phosphorylation, Label: I-subj\n",
      "Token: [SEP], Label: O\n",
      "Token: a, Label: O\n",
      "Token: <e>, Label: B-subj\n",
      "Token: mek, Label: O\n",
      "Token: </e>, Label: O\n",
      "Token: phosphoryl, Label: I-obj\n",
      "Token: ##ates, Label: I-obj\n",
      "Token: <e>, Label: O\n",
      "Token: erk, Label: O\n",
      "Token: </e>, Label: O\n",
      "Token: [SEP], Label: O\n"
     ]
    }
   ],
   "source": [
    "for x, y in zip(tokenizer.convert_ids_to_tokens(encoding['input_ids']), char_to_token_labels(tokenizer.decode(encoding['input_ids']), encoding[\"offset_mapping\"], role_spans)):\n",
    "    print(f\"Token: {x}, Label: {y}\")\n"
   ]
  },
  {
   "cell_type": "code",
   "execution_count": 1,
   "metadata": {},
   "outputs": [
    {
     "name": "stderr",
     "output_type": "stream",
     "text": [
      "/Users/thomaslim/miniconda3/envs/indra_gpt/lib/python3.11/site-packages/tqdm/auto.py:21: TqdmWarning: IProgress not found. Please update jupyter and ipywidgets. See https://ipywidgets.readthedocs.io/en/stable/user_install.html\n",
      "  from .autonotebook import tqdm as notebook_tqdm\n",
      "Loading and preprocessing: 1800it [00:00, 110207.24it/s]\n",
      "Map: 100%|██████████| 1260/1260 [00:00<00:00, 3776.76 examples/s]\n",
      "Map: 100%|██████████| 360/360 [00:00<00:00, 3862.33 examples/s]\n",
      "Map: 100%|██████████| 180/180 [00:00<00:00, 3586.88 examples/s]\n"
     ]
    }
   ],
   "source": [
    "from pathlib import Path\n",
    "from transformers import AutoTokenizer\n",
    "import sys\n",
    "sys.path.append((Path.cwd() / \"indra_agent_role_assigner\").resolve().as_posix())\n",
    "from indra_agent_role_assigner.preprocess import load_and_preprocess_from_raw_data, build_label_mappings, preprocess_examples_from_dataset, SpecialTokenOffsetFixTokenizer\n",
    "from datasets import Dataset\n",
    "\n",
    "# ---- Load tokenizer ----\n",
    "tokenizer = AutoTokenizer.from_pretrained(\"microsoft/BiomedNLP-PubMedBERT-base-uncased-abstract\")\n",
    "special_tokenizer = SpecialTokenOffsetFixTokenizer(tokenizer)\n",
    "\n",
    "# ---- Load raw data ----\n",
    "raw_examples = load_and_preprocess_from_raw_data(\"/Users/thomaslim/gyorilab/indra_bert/data/indra_benchmark_annotated_data/indra_benchmark_corpus_annotated_stratified_sample.jsonl\")\n",
    "\n",
    "# ---- Build label mappings from dataset ----\n",
    "label2id, id2label = build_label_mappings(raw_examples)\n",
    "\n",
    "# ---- Convert to HuggingFace Dataset ----\n",
    "dataset = Dataset.from_list(raw_examples)\n",
    "\n",
    "split_dataset = dataset.train_test_split(test_size=0.3, seed=42)\n",
    "train_dataset = split_dataset[\"train\"]\n",
    "temp_dataset = split_dataset[\"test\"]\n",
    "val_test_split = temp_dataset.train_test_split(test_size=1/3, seed=42)\n",
    "val_dataset = val_test_split[\"train\"]\n",
    "test_dataset = val_test_split[\"test\"]\n",
    "\n",
    "# ---- Preprocess for model ----\n",
    "train_dataset = train_dataset.map(\n",
    "    lambda x: preprocess_examples_from_dataset(x, special_tokenizer, label2id),\n",
    "    batched=False\n",
    ")\n",
    "val_dataset = val_dataset.map(\n",
    "    lambda x: preprocess_examples_from_dataset(x, special_tokenizer, label2id),\n",
    "    batched=False\n",
    ")\n",
    "test_dataset = test_dataset.map(\n",
    "    lambda x: preprocess_examples_from_dataset(x, special_tokenizer, label2id),\n",
    "    batched=False\n",
    ")\n"
   ]
  },
  {
   "cell_type": "code",
   "execution_count": null,
   "metadata": {},
   "outputs": [
    {
     "data": {
      "text/plain": [
       "'subj'"
      ]
     },
     "execution_count": 20,
     "metadata": {},
     "output_type": "execute_result"
    }
   ],
   "source": [
    "import re\n",
    "list(re.finditer(r\"<([^<>]+?)>(.*?)</\\1>\", \"olved in <subj>MAPK</subj> suppressio\"))[0].group(1)\n"
   ]
  }
 ],
 "metadata": {
  "kernelspec": {
   "display_name": "indra_gpt",
   "language": "python",
   "name": "python3"
  },
  "language_info": {
   "codemirror_mode": {
    "name": "ipython",
    "version": 3
   },
   "file_extension": ".py",
   "mimetype": "text/x-python",
   "name": "python",
   "nbconvert_exporter": "python",
   "pygments_lexer": "ipython3",
   "version": "3.11.11"
  }
 },
 "nbformat": 4,
 "nbformat_minor": 2
}
